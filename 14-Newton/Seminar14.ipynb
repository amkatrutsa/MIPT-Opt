{
 "cells": [
  {
   "cell_type": "markdown",
   "metadata": {
    "slideshow": {
     "slide_type": "slide"
    }
   },
   "source": [
    "# Семинар 14\n",
    "\n",
    "# Метод Ньютона: дорого и быстро"
   ]
  },
  {
   "cell_type": "markdown",
   "metadata": {
    "slideshow": {
     "slide_type": "slide"
    }
   },
   "source": [
    "## На прошлом семинаре...\n",
    "\n",
    "1. Методы спуска\n",
    "2. Направление убывания\n",
    "3. Градиентный метод\n",
    "4. Правила выбора шага\n",
    "5. Теоремы сходимости\n",
    "6. Эксперименты"
   ]
  },
  {
   "cell_type": "markdown",
   "metadata": {
    "slideshow": {
     "slide_type": "slide"
    }
   },
   "source": [
    "## Недостатки градиентного спуска\n",
    "\n",
    "- Линейная скорость сходимости\n",
    "- Зависимость от числа обусловленности гессиана\n",
    "\n",
    "Можно ли их одновременно преодолеть?"
   ]
  },
  {
   "cell_type": "markdown",
   "metadata": {
    "slideshow": {
     "slide_type": "slide"
    }
   },
   "source": [
    "## Идея метода Ньютона\n",
    "Рассмотрим задачу\n",
    "$$\n",
    "\\min\\limits_{x\\ \\in \\mathbb{R}^n} f(x).\n",
    "$$\n",
    "\n",
    "- Градиентный спуск $\\equiv$ **линейная** аппроксимация $f$\n",
    "- Метод Ньютона $\\equiv$ **квадратичная** аппроксимация $f$:\n",
    "$$\n",
    "f(x + h) \\approx f(x) + \\langle f'(x), h \\rangle + \\frac{1}{2}h^{\\top}f''(x)h \\to \\min_{h}\n",
    "$$\n",
    "Из необходимого условия минимума:\n",
    "$$\n",
    "f'(x) + f''(x) h = 0, \\qquad h^* = -(f''(x))^{-1} f'(x)\n",
    "$$\n"
   ]
  },
  {
   "cell_type": "markdown",
   "metadata": {
    "slideshow": {
     "slide_type": "slide"
    }
   },
   "source": [
    "### Является ли найденное направление направлением убывания?\n",
    "\n",
    "Проверим знак скалярного произведения $\\langle f'(x), h^* \\rangle$.\n",
    "$$\n",
    "\\langle f'(x), h^* \\rangle = -(f')^{\\top}(x) (f''(x))^{-1} f'(x) < 0 \\Leftarrow f''(x) \\succ 0\n",
    "$$\n",
    "\n",
    "**Вопрос:** а что если при некотором $k^*$ гессиан станет неопределён?\n",
    "\n"
   ]
  },
  {
   "cell_type": "markdown",
   "metadata": {
    "slideshow": {
     "slide_type": "slide"
    }
   },
   "source": [
    "## Метод Ньютона\n",
    "\n",
    "- Классический метод Ньютона: $\\alpha_k \\equiv 1$\n",
    "- Демпфированный метод Ньютона: $\\alpha_k$ выбирается на каждой итерации по заданному правилу\n",
    "\n",
    "```python\n",
    "def NewtonMethod(f, x0, epsilon, **kwargs):\n",
    "    \n",
    "    x = x0\n",
    "    \n",
    "    while True:\n",
    "        \n",
    "        h = ComputeNewtonStep(x, f, **kwargs)\n",
    "        \n",
    "        if StopCriterion(x, f, h, **kwargs) < epsilon:\n",
    "            \n",
    "            break\n",
    "            \n",
    "        alpha = SelectStepSize(x, h, f, **kwargs)\n",
    "            \n",
    "        x = x + alpha * h\n",
    "            \n",
    "    return x\n",
    "\n",
    "```"
   ]
  },
  {
   "cell_type": "markdown",
   "metadata": {
    "slideshow": {
     "slide_type": "slide"
    }
   },
   "source": [
    "## Теорема сходимости (Ю. Е. Нестеров Введение в выпуклую оптимизацию, $\\S$ 1.2)\n",
    "\n",
    "**Теорема.** Пусть функция $f(x)$\n",
    "- дважды дифференцируема и её гессиан удовлетворяет условию Липшица с константой $M$\n",
    "- существует точка локального минимума с положительно определённым гессианом\n",
    "$$\n",
    "f''(x^*) \\succeq l\\mathbf{I}, \\; l > 0\n",
    "$$\n",
    "- начальная точка $x_0$ достаточно близка к точки минимума, в частности\n",
    "$$\n",
    "\\|x_0 - x^*\\|_2 \\leq \\frac{2l}{3M}\n",
    "$$\n",
    "\n",
    "Тогда метод Ньютона сходится **квадратично**:\n",
    "$$\n",
    "\\|x_{k+1} - x^* \\|_2 \\leq \\dfrac{M\\|x_k - x^*\\|^2_2}{2 (l - M\\|x_k - x^*\\|_2)}\n",
    "$$"
   ]
  },
  {
   "cell_type": "markdown",
   "metadata": {
    "slideshow": {
     "slide_type": "slide"
    }
   },
   "source": [
    "### Пример\n",
    "\n",
    "Применим метод Ньютона для поиска корня следующей функции\n",
    "\n",
    "$$\n",
    "\\varphi(t) = \\dfrac{t}{\\sqrt{1+t^2}}\n",
    "$$\n",
    "\n",
    "и определим область сходимости."
   ]
  },
  {
   "cell_type": "markdown",
   "metadata": {
    "slideshow": {
     "slide_type": "slide"
    }
   },
   "source": [
    "## Аффинная инвариантность\n",
    "\n",
    "Рассмотрим функцию $f(x)$ и невырожденное преобразование с матрицей $A$. \n",
    "\n",
    "Выясним, как изменится шаг метода Ньютона после преобразования $A$.\n",
    "\n",
    "Пусть $x = Ay$ и $g(y) = f(Ay)$. Тогда\n",
    "$$\n",
    "g(y + u) \\approx g(y) + \\langle g'(y), u \\rangle + \\frac{1}{2} u^{\\top} g''(y) u \\to \\min_{u}\n",
    "$$\n",
    "и\n",
    "$$\n",
    "u^* = -(g''(y))^{-1} g'(y) \\qquad y_{k+1} = y_k - (g''(y_k))^{-1} g'(y_k)\n",
    "$$\n",
    "или"
   ]
  },
  {
   "cell_type": "markdown",
   "metadata": {
    "slideshow": {
     "slide_type": "fragment"
    }
   },
   "source": [
    "\\begin{equation}\n",
    "\\begin{split}\n",
    "y_{k+1} & = y_k - (A^{\\top}f''(Ay_k)A)^{-1} A^{\\top}f'(Ay_k)\\\\\n",
    "& = y_k - A^{-1}(f''(Ay_k))^{-1}f'(Ay_k)\n",
    "\\end{split}\n",
    "\\end{equation}\n",
    "\n",
    "Таким образом,\n",
    "\n",
    "$$\n",
    "Ay_{k+1} = Ay_k - (f''(Ay_k))^{-1}f'(Ay_k) \\quad x_{k+1} = x_k - (f''(x_k))^{-1}f'(x_k)\n",
    "$$\n",
    "\n",
    "Следовательно, направление метода Ньютона преобразуется при \n",
    "\n",
    "линейном преобразовани так же, как и координаты!"
   ]
  },
  {
   "cell_type": "markdown",
   "metadata": {
    "slideshow": {
     "slide_type": "slide"
    }
   },
   "source": [
    "## Вычислительная сложность и эксперименты"
   ]
  },
  {
   "cell_type": "markdown",
   "metadata": {
    "collapsed": true,
    "slideshow": {
     "slide_type": "fragment"
    }
   },
   "source": [
    "Узкие места метода Ньютона:\n",
    "\n",
    "- формирование и хранение гессиана\n",
    "- решение систем линейных уравнений\n",
    "$$\n",
    "f''(x_k)h = -f'(x_k)\n",
    "$$"
   ]
  },
  {
   "cell_type": "markdown",
   "metadata": {
    "slideshow": {
     "slide_type": "slide"
    }
   },
   "source": [
    "### Сравнение с градиентным спуском\n",
    "\n",
    "Вспомним задачу нахождения аналитического центра системы неравенств $Ax \\leq 1$ при условии $|x_i| \\leq 1$\n",
    "$$\n",
    "f(x) = - \\sum_{i=1}^m \\log(1 - a_i^{\\top}x) - \\sum\\limits_{i = 1}^n \\log (1 - x^2_i) \\to \\min_x\n",
    "$$\n",
    "\n",
    "$$\n",
    "f'(x) - ? \\quad f''(x) - ?\n",
    "$$ "
   ]
  },
  {
   "cell_type": "code",
   "execution_count": 1,
   "metadata": {
    "slideshow": {
     "slide_type": "fragment"
    }
   },
   "outputs": [],
   "source": [
    "import numpy as np\n",
    "import liboptpy.unconstr_solvers as methods\n",
    "import liboptpy.step_size as ss\n",
    "\n",
    "n = 5000\n",
    "m = 200\n",
    "x0 = np.zeros((n,))\n",
    "A = np.random.rand(n, m) * 10"
   ]
  },
  {
   "cell_type": "markdown",
   "metadata": {
    "slideshow": {
     "slide_type": "slide"
    }
   },
   "source": [
    "#### Точное решение с помощью CVXPy"
   ]
  },
  {
   "cell_type": "code",
   "execution_count": 2,
   "metadata": {
    "slideshow": {
     "slide_type": "fragment"
    }
   },
   "outputs": [
    {
     "name": "stdout",
     "output_type": "stream",
     "text": [
      "----------------------------------------------------------------------------\n",
      "\tSCS v1.2.6 - Splitting Conic Solver\n",
      "\t(c) Brendan O'Donoghue, Stanford University, 2012-2016\n",
      "----------------------------------------------------------------------------\n",
      "Lin-sys: sparse-indirect, nnz in A = 1025200, CG tol ~ 1/iter^(2.00)\n",
      "eps = 1.00e-03, alpha = 1.50, max_iters = 1000, normalize = 1, scale = 1.00\n",
      "Variables n = 15200, constraints m = 30600\n",
      "Cones:\tsoc vars: 15000, soc blks: 5000\n",
      "\texp vars: 15600, dual exp vars: 0\n",
      "Setup time: 5.75e-02s\n",
      "----------------------------------------------------------------------------\n",
      " Iter | pri res | dua res | rel gap | pri obj | dua obj | kap/tau | time (s)\n",
      "----------------------------------------------------------------------------\n",
      "     0|      inf       inf       nan      -inf      -inf       inf  8.46e-02 \n",
      "   100| 2.62e+01  7.15e+00  6.79e-03 -5.95e+04 -5.87e+04  2.16e-12  3.57e+00 \n",
      "   200| 6.82e+00  8.09e-01  5.48e-03 -4.46e+03 -4.42e+03  1.41e-12  8.82e+00 \n",
      "   300| 2.19e+00  7.04e-01  2.06e-03 -2.83e+03 -2.82e+03  8.02e-13  1.38e+01 \n",
      "   400| 1.13e+00  4.39e-01  1.07e-03 -2.10e+03 -2.10e+03  8.38e-13  1.79e+01 \n",
      "   500| 6.36e-01  2.79e-01  5.22e-04 -1.82e+03 -1.82e+03  8.55e-13  2.25e+01 \n",
      "   600| 3.65e-01  1.77e-01  1.77e-04 -1.69e+03 -1.69e+03  8.62e-13  2.65e+01 \n",
      "   700| 2.13e-01  1.10e-01  3.70e-05 -1.62e+03 -1.62e+03  8.64e-13  3.13e+01 \n",
      "   800| 1.37e-01  6.44e-02  1.56e-04 -1.58e+03 -1.58e+03  8.63e-13  3.61e+01 \n",
      "   900| 1.07e-01  3.46e-02  2.08e-04 -1.56e+03 -1.56e+03  8.61e-13  4.09e+01 \n",
      "  1000| 9.28e-02  1.56e-02  2.14e-04 -1.54e+03 -1.55e+03  8.58e-13  4.54e+01 \n",
      "----------------------------------------------------------------------------\n",
      "Status: Solved/Inaccurate\n",
      "Hit max_iters, solution may be inaccurate\n",
      "Timing: Solve time: 4.54e+01s\n",
      "\tLin-sys: avg # CG iterations: 3.75, avg solve time: 1.67e-02s\n",
      "\tCones: avg projection time: 2.81e-02s\n",
      "----------------------------------------------------------------------------\n",
      "Error metrics:\n",
      "dist(s, K) = 1.7458e-02, dist(y, K*) = 1.1102e-16, s'y/|s||y| = -3.9028e-10\n",
      "|Ax + s - b|_2 / (1 + |b|_2) = 9.2839e-02\n",
      "|A'y + c|_2 / (1 + |c|_2) = 1.5579e-02\n",
      "|c'x + b'y| / (1 + |c'x| + |b'y|) = 2.1402e-04\n",
      "----------------------------------------------------------------------------\n",
      "c'x = -1544.9958, -b'y = -1545.6574\n",
      "============================================================================\n",
      "Optimal value = -1544.9957742562128\n"
     ]
    }
   ],
   "source": [
    "import cvxpy as cvx\n",
    "x = cvx.Variable(n, 1)\n",
    "\n",
    "obj = cvx.Minimize(cvx.sum_entries(-cvx.log(1 - A.T * x)) - \n",
    "                   cvx.sum_entries(cvx.log(1 - cvx.square(x))))\n",
    "prob = cvx.Problem(obj)\n",
    "prob.solve(solver=\"SCS\", verbose=True, max_iters=1000)\n",
    "x = x.value\n",
    "print(\"Optimal value =\", prob.value)"
   ]
  },
  {
   "cell_type": "markdown",
   "metadata": {
    "slideshow": {
     "slide_type": "slide"
    }
   },
   "source": [
    "#### Вспомогательные функции"
   ]
  },
  {
   "cell_type": "code",
   "execution_count": 3,
   "metadata": {
    "slideshow": {
     "slide_type": "fragment"
    }
   },
   "outputs": [],
   "source": [
    "f = lambda x: -np.sum(np.log(1 - A.T.dot(x))) - np.sum(np.log(1 - x*x))\n",
    "grad_f = lambda x: np.sum(A.dot(np.diagflat(1 / (1 - A.T.dot(x)))), axis=1) + 2 * x / (1 - np.power(x, 2))\n",
    "hess_f = lambda x: (A.dot(np.diagflat(1 / (1 - A.T.dot(x))**2))).dot(A.T) + np.diagflat(2 * (1 + x**2) / (1 - x**2)**2)"
   ]
  },
  {
   "cell_type": "markdown",
   "metadata": {
    "slideshow": {
     "slide_type": "slide"
    }
   },
   "source": [
    "#### Реализация метода Ньютона"
   ]
  },
  {
   "cell_type": "code",
   "execution_count": 4,
   "metadata": {
    "slideshow": {
     "slide_type": "fragment"
    }
   },
   "outputs": [],
   "source": [
    "def Newton(f, gradf, hessf, x0, epsilon, num_iter, line_search, \n",
    "                    disp=False, callback=None, **kwargs):\n",
    "    x = x0.copy()\n",
    "    iteration = 0\n",
    "    opt_arg = {\"f\": f, \"grad_f\": gradf}\n",
    "    for key in kwargs:\n",
    "        opt_arg[key] = kwargs[key]\n",
    "    while True:\n",
    "        gradient = gradf(x)\n",
    "        hess = hessf(x)\n",
    "        h = np.linalg.solve(hess, -gradient)\n",
    "        alpha = line_search(x, h, **opt_arg)\n",
    "        x = x + alpha * h\n",
    "        if callback is not None:\n",
    "            callback(x)\n",
    "        iteration += 1\n",
    "        if disp:\n",
    "            print(\"Current function val =\", f(x))\n",
    "            print(\"Current gradient norm = \", np.linalg.norm(gradf(x)))\n",
    "        if np.linalg.norm(gradf(x)) < epsilon:\n",
    "            break\n",
    "        if iteration >= num_iter:\n",
    "            break\n",
    "    res = {\"x\": x, \"num_iter\": iteration, \"tol\": np.linalg.norm(gradf(x))}\n",
    "    return res"
   ]
  },
  {
   "cell_type": "markdown",
   "metadata": {
    "slideshow": {
     "slide_type": "slide"
    }
   },
   "source": [
    "#### Сравнение с градиентным спуском"
   ]
  },
  {
   "cell_type": "code",
   "execution_count": 5,
   "metadata": {
    "slideshow": {
     "slide_type": "fragment"
    }
   },
   "outputs": [
    {
     "name": "stdout",
     "output_type": "stream",
     "text": [
      "Convergence in 15 iterations\n",
      "Function value = -1533.4473422234616\n",
      "Norm of gradient = 3.570197385956219e-07\n"
     ]
    },
    {
     "name": "stderr",
     "output_type": "stream",
     "text": [
      "/Users/alex/anaconda3/envs/cvxpy/lib/python3.6/site-packages/ipykernel_launcher.py:1: RuntimeWarning: invalid value encountered in log\n",
      "  \"\"\"Entry point for launching an IPython kernel.\n"
     ]
    },
    {
     "name": "stdout",
     "output_type": "stream",
     "text": [
      "Convergence in 50 iterations\n",
      "Function value = -1533.4473422222418\n",
      "Norm of gradient = 0.00010077888531043689\n"
     ]
    }
   ],
   "source": [
    "newton = methods.so.NewtonMethod(f, grad_f, hess_f, ss.Backtracking(\"Armijo\", rho=0.9, beta=0.1, init_alpha=1.))\n",
    "x_newton = newton.solve(x0, tol=1e-6, max_iter=50, disp=True)\n",
    "\n",
    "gd = methods.fo.GradientDescent(f, grad_f, ss.Backtracking(\"Armijo\", rho=0.9, beta=0.1, init_alpha=1.))\n",
    "x_gd = gd.solve(x0, tol=1e-6, max_iter=50, disp=True)"
   ]
  },
  {
   "cell_type": "code",
   "execution_count": 6,
   "metadata": {
    "slideshow": {
     "slide_type": "slide"
    }
   },
   "outputs": [
    {
     "data": {
      "text/plain": [
       "<matplotlib.legend.Legend at 0x1820432c88>"
      ]
     },
     "execution_count": 6,
     "metadata": {},
     "output_type": "execute_result"
    },
    {
     "data": {
      "image/png": "[encoded data removed]",
      "text/plain": [
       "<matplotlib.figure.Figure at 0x107f4a860>"
      ]
     },
     "metadata": {},
     "output_type": "display_data"
    }
   ],
   "source": [
    "%matplotlib inline\n",
    "import matplotlib.pyplot as plt\n",
    "plt.figure(figsize=(12, 8))\n",
    "# Newton\n",
    "plt.semilogy([np.linalg.norm(grad_f(x)) for x in newton.get_convergence()], label=\"$\\| f'(x_k) \\|^{N}_2$\")\n",
    "# Gradient\n",
    "plt.semilogy([np.linalg.norm(grad_f(x)) for x in gd.get_convergence()], label=\"$\\| f'(x_k) \\|^{G}_2$\")\n",
    "plt.rc(\"text\", usetex=True)\n",
    "plt.xlabel(r\"Number of iteration, $k$\", fontsize=20)\n",
    "plt.ylabel(r\"Convergence rate\", fontsize=20)\n",
    "plt.xticks(fontsize = 20)\n",
    "plt.yticks(fontsize = 20)\n",
    "plt.legend(loc=\"best\", fontsize=18)"
   ]
  },
  {
   "cell_type": "markdown",
   "metadata": {
    "slideshow": {
     "slide_type": "slide"
    }
   },
   "source": [
    "#### Сравнение времени работы"
   ]
  },
  {
   "cell_type": "code",
   "execution_count": 7,
   "metadata": {
    "slideshow": {
     "slide_type": "fragment"
    }
   },
   "outputs": [
    {
     "name": "stdout",
     "output_type": "stream",
     "text": [
      "15.8 s ± 222 ms per loop (mean ± std. dev. of 7 runs, 1 loop each)\n"
     ]
    },
    {
     "name": "stderr",
     "output_type": "stream",
     "text": [
      "/Users/alex/anaconda3/envs/cvxpy/lib/python3.6/site-packages/ipykernel_launcher.py:1: RuntimeWarning: invalid value encountered in log\n",
      "  \"\"\"Entry point for launching an IPython kernel.\n"
     ]
    },
    {
     "name": "stdout",
     "output_type": "stream",
     "text": [
      "1.31 s ± 3.72 ms per loop (mean ± std. dev. of 7 runs, 1 loop each)\n"
     ]
    }
   ],
   "source": [
    "%timeit newton.solve(x0, tol=1e-6, max_iter=50)\n",
    "%timeit gd.solve(x0, tol=1e-6, max_iter=50)"
   ]
  },
  {
   "cell_type": "markdown",
   "metadata": {
    "slideshow": {
     "slide_type": "fragment"
    }
   },
   "source": [
    "- Метод Ньютона даёт очень точное решение за длительное время\n",
    "- Метод градиентного спуска даёт не очень точное решение, но гораздо быстрее\n",
    "- Часто бывает, что очень точное решение не требуется, поэтому градиентный спуск может быть предпочтительнее"
   ]
  },
  {
   "cell_type": "markdown",
   "metadata": {
    "slideshow": {
     "slide_type": "slide"
    }
   },
   "source": [
    "## Pro & Contra\n",
    "\n",
    "Pro\n",
    "\n",
    "- квадратичная сходимость вблизи решения\n",
    "- высокая точность полученного решения\n",
    "- аффинная инвариантность\n",
    "- параметры слабо влияют на скорость сходимости\n",
    "\n",
    "Contra\n",
    "\n",
    "- необходимо хранить гессиан на каждой итерации: $O(n^2)$ памяти\n",
    "- необходимо решать линейные системы: $O(n^3)$ операций\n",
    "- гессиан может оказаться вырожден\n",
    "- гессиан может не быть положительно определён $\\to$ направление $-(f''(x))^{-1}f'(x)$ может не быть направлением убывания"
   ]
  },
  {
   "cell_type": "markdown",
   "metadata": {
    "slideshow": {
     "slide_type": "slide"
    }
   },
   "source": [
    "## Сравнение с градиентным методом (Б.Т. Поляк Введение в оптимизацию, гл. 3, $\\S$ 1 )\n",
    "\n",
    "Метод | Скорость сходимости | Сложность | Аффинная инвариантность | Требования к $f(x)$\n",
    ":---: | :---: | :---: | :---: | :---\n",
    "Градиентный спуск | Глобально линейная | $O(n) + $ определение шага | Нет | Дифференцируема; градиент липшицев\n",
    "Метод Ньютона | Локально квадратичная | $O(n^3) + $ определение шага | Да | Дважды диференцируема; гессиан липшицев, положительно определён\n"
   ]
  },
  {
   "cell_type": "markdown",
   "metadata": {
    "slideshow": {
     "slide_type": "slide"
    }
   },
   "source": [
    "## Что дальше?\n",
    "\n",
    "- **Сложность:** как избавиться от решения систем линейных уравнений и хранения гессиана?\n",
    "- **Сходимость:** как совместить локально квадратичную и глобально линейную скорости? Желательно получить глобально квадратичную сходимость!\n",
    "- Требования к $f(x)$ необходимо минимизировать"
   ]
  },
  {
   "cell_type": "markdown",
   "metadata": {
    "slideshow": {
     "slide_type": "slide"
    }
   },
   "source": [
    "## Как уменьшить сложность?\n",
    "\n",
    "- Как не решать системы линейных уравнений говорят так называемые *квазиньютоновские методы* или *методы переменной метрики* - подробнее далее... \n",
    "- Как не хранить гессиан говорят методы типа [L-BFGS](https://en.wikipedia.org/wiki/Limited-memory_BFGS) (Limited Broyden-Fletcher-Goldfarb-Shanno). Описание этих методов выходит за рамки курса, однако они являются наиболее употребимыми методами решения задач безусловной оптимизации больших размерностей."
   ]
  },
  {
   "cell_type": "markdown",
   "metadata": {
    "slideshow": {
     "slide_type": "slide"
    }
   },
   "source": [
    "## Как решить проблему локальной сходимости?\n",
    "\n",
    "Этот вопрос будет затронут на семинаре про использование \n",
    "\n",
    "метода наименьших квадратов..."
   ]
  },
  {
   "cell_type": "markdown",
   "metadata": {
    "slideshow": {
     "slide_type": "slide"
    }
   },
   "source": [
    "## Квазиньютоновские методы\n",
    "\n",
    "Ещё раз сравним градиентный метод и метод Ньютона:\n",
    "- градиентный метод получен из аппроксимации первого порядка:\n",
    "$$\n",
    "f_g(x) \\approx f(y) + \\langle f'(y), x - y \\rangle + \\frac{1}{2\\alpha}\\|x - y\\|_2^2\n",
    "$$\n",
    "причём при $\\alpha \\in (0, 1/L], f(x) \\leq f_g(x)$, то есть $f_g$ - глобальная оценка $f(x)$\n",
    "- метод Ньютона получен из аппроксимации второго порядка\n",
    "$$\n",
    "f_N(x) \\approx f(y) + \\langle f'(y), x - y \\rangle + \\frac{1}{2} (x-y)^{\\top}f''(y)(x-y)\n",
    "$$"
   ]
  },
  {
   "cell_type": "markdown",
   "metadata": {
    "collapsed": true,
    "slideshow": {
     "slide_type": "fragment"
    }
   },
   "source": [
    "**Идея:** использовать промежуточную аппроксимацию вида\n",
    "\n",
    "$$\n",
    "f_q(x) \\approx f(y) + \\langle f'(y), x - y \\rangle + \\frac{1}{2} (x-y)^{\\top}{\\color{red}{B(y)}}(x-y),\n",
    "$$\n",
    "\n",
    "которая даёт переход к следующей точке (полная аналогия с методом Ньютона):\n",
    "\n",
    "$$\n",
    "x_{k+1} = x_k - \\alpha B^{-1}_k f'(x_k) = x_k - \\alpha H_k f'(x_k)\n",
    "$$"
   ]
  },
  {
   "cell_type": "markdown",
   "metadata": {
    "slideshow": {
     "slide_type": "slide"
    }
   },
   "source": [
    "### Немного истории...\n",
    "- Первый квазиньютоновский метод придумал физик William Davidon в середине 1950-х для ускорения своих вычислений на ненадёжных компьютерах\n",
    "- Его статью с описанием предложенного метода не приняли к публикации, и она оставалась техническим отчётом <br></br> более 30 лет\n",
    "- [Опубликована](http://epubs.siam.org/doi/abs/10.1137/0801001) в 1991 году в первом выпуске [SIAM Journal on Optimization](https://www.siam.org/journals/siopt.php) "
   ]
  },
  {
   "cell_type": "markdown",
   "metadata": {
    "slideshow": {
     "slide_type": "slide"
    }
   },
   "source": [
    "### Общая схема квазиньютоновских методов\n",
    "\n",
    "```python\n",
    "def QuasiNewtonMethod(f, x0, epsilon, **kwargs):\n",
    "    \n",
    "    x = x0\n",
    "    \n",
    "    H = I\n",
    "    \n",
    "    while True:\n",
    "        \n",
    "        h = -H.dot(grad_f(x))\n",
    "        \n",
    "        if StopCriterion(x, f, h, **kwargs) < epsilon:\n",
    "            \n",
    "            break\n",
    "            \n",
    "        alpha = SelectStepSize(x, h, f, **kwargs)\n",
    "            \n",
    "        x = x + alpha * h\n",
    "            \n",
    "        H = UpdateH(H, f(x), grad_f(x))\n",
    "            \n",
    "    return x\n",
    "```"
   ]
  },
  {
   "cell_type": "markdown",
   "metadata": {
    "slideshow": {
     "slide_type": "slide"
    }
   },
   "source": [
    "### Как искать $B_{k+1}$?\n",
    "\n",
    "В точке $x_{k+1}$ имеем следующую аппрокисмацию:\n",
    "\n",
    "$$\n",
    "f_q(h) \\approx f(x_{k+1}) + \\langle f'(x_{k+1}), h \\rangle + \\frac{1}{2}h^{\\top}B_{k+1}h\n",
    "$$\n",
    "\n",
    "Из определения, очевидно, что $B_{k+1} \\in \\mathbb{S}^n_{++}$.\n",
    "Какие требования естественно наложить на $f_q(h)$?"
   ]
  },
  {
   "cell_type": "markdown",
   "metadata": {
    "slideshow": {
     "slide_type": "fragment"
    }
   },
   "source": [
    "$$\n",
    "f_q'(-\\alpha_k h_k) = f'(x_k) \\qquad f'_q(0) = f'(x_{k+1}),\n",
    "$$\n",
    "\n",
    "где первое условие даёт\n",
    "\n",
    "$$\n",
    "f'(x_{k+1}) - \\alpha_k B_{k+1}h_k = f'(x_k),\n",
    "$$\n",
    "\n",
    "а второе выполняется автоматически."
   ]
  },
  {
   "cell_type": "markdown",
   "metadata": {
    "slideshow": {
     "slide_type": "slide"
    }
   },
   "source": [
    "### Квазиньютоновское уравнение (Secant equation)\n",
    "\n",
    "Из первого условия получаем\n",
    "\n",
    "$$\n",
    "B_{k+1}s_k = y_k,\n",
    "$$\n",
    "\n",
    "где $s_k = x_{k+1} - x_k$ и $y_k = f'(x_{k+1}) - f'(x_k)$.\n",
    "\n",
    "Это уравнение будет иметь решение только при $s^{\\top}_k y_k > 0$. Почему?\n",
    "\n",
    "**Вопрос:** всегда ли выполнено такое соотношение \n",
    "\n",
    "между разностью градиентов и точек?\n",
    "\n",
    "**Вопрос:** единственным ли образом определено $B_{k+1}$?"
   ]
  },
  {
   "cell_type": "markdown",
   "metadata": {
    "slideshow": {
     "slide_type": "slide"
    }
   },
   "source": [
    "### Как однозначно определить $B_{k+1}$?\n",
    "\n",
    "\\begin{equation}\n",
    "\\begin{split}\n",
    "& \\min_B \\| B_k - B \\| \\\\\n",
    "\\text{s.t. } & B = B^{\\top}\\\\\n",
    "& Bs_k = y_k\n",
    "\\end{split}\n",
    "\\end{equation}"
   ]
  },
  {
   "cell_type": "markdown",
   "metadata": {
    "slideshow": {
     "slide_type": "slide"
    }
   },
   "source": [
    "### DFP (Davidon-Fletcher-Powell)\n",
    "$$\n",
    "B_{k+1} = (I - \\rho_k y_k s^{\\top}_k)B_k(I - \\rho_k s_ky^{\\top}_k) + \\rho_k y_k y^{\\top}_k,\n",
    "$$\n",
    "где $\\rho_k = \\dfrac{1}{y^{\\top}_k s_k}$,\n",
    "\n",
    "или с помощью формулы Шермана-Морисона-Вудбери\n",
    "\n",
    "$$\n",
    "B^{-1}_{k+1} = H_{k+1} = H_k - \\dfrac{H_ky_k y_k^{\\top}H_k}{y^{\\top}_kH_ky_k} + \\dfrac{s_ks^{\\top}_k}{y^{\\top}_ks_k}\n",
    "$$\n",
    "\n",
    "**Вопрос:** какой ранг у матрицы преобразования $B_{k+1}$ и $H_{k+1}$?"
   ]
  },
  {
   "cell_type": "markdown",
   "metadata": {
    "slideshow": {
     "slide_type": "slide"
    }
   },
   "source": [
    "### BFGS\n",
    "\n",
    "<center><img src=\"./bfgs.png\" width=\"600\" /img></center>\n",
    "**Вопрос:** какая естественная модификация метода DFP?"
   ]
  },
  {
   "cell_type": "markdown",
   "metadata": {
    "slideshow": {
     "slide_type": "fragment"
    }
   },
   "source": [
    "\\begin{equation}\n",
    "\\begin{split}\n",
    "& \\min_H \\| H_k - H \\| \\\\\n",
    "\\text{s.t. } & H = H^{\\top}\\\\\n",
    "& Hy_k = s_k\n",
    "\\end{split}\n",
    "\\end{equation}"
   ]
  },
  {
   "cell_type": "markdown",
   "metadata": {
    "slideshow": {
     "slide_type": "fragment"
    }
   },
   "source": [
    "Формула пересчёта для метода BFGS:\n",
    "\n",
    "$$\n",
    "H_{k+1} = (I - \\rho_k s_ky^{\\top}_k)H_k(I - \\rho_k y_k s^{\\top}_k) + \\rho_k s_k s^{\\top}_k,\n",
    "$$\n",
    "\n",
    "где $\\rho_k = \\dfrac{1}{y^{\\top}_k s_k}$"
   ]
  },
  {
   "cell_type": "markdown",
   "metadata": {
    "slideshow": {
     "slide_type": "slide"
    }
   },
   "source": [
    "## Pro & Contra\n",
    "\n",
    "Pro:\n",
    "1. Вместо **точного** вычисления гессиана используется его **оценка**, полученная с помощью градиента и оценки гессиана в предыдущей точке\n",
    "2. Вместо решения систем линейных уравнений используется текущаю информация о функции и градиенте для аналитического вычисления приближения обращённого гессиана\n",
    "3. Сложность одной итерации $O(n^2) + ...$ по сравнению с $O(n^3) + ...$ в методе Ньютона\n",
    "4. Свойство самокоррекции: если на некоторой итерации обратный гессиан оценен очень грубо, то следующие несколько итераций улучшат оценку\n",
    "5. Сверхлинейная сходимость к решению задачи минимизации $f$ (подробнее см. [[1]](http://www.bioinfo.org.cn/~wangchao/maa/Numerical_Optimization.pdf))\n",
    "\n",
    "Contra:\n",
    "1. Нет универсального рецепта выбора начального приближения $B_0$ или $H_0$\n",
    "2. Нет разработанной теории сходимости и оптимальности\n",
    "3. Не любое условие на линейный поиск шага гарантирует выполнения условия кривизны $y^{\\top}_ks_k > 0$"
   ]
  },
  {
   "cell_type": "markdown",
   "metadata": {
    "slideshow": {
     "slide_type": "slide"
    }
   },
   "source": [
    "## Barzilai-Borwein method\n",
    "\n",
    "- Первая [статья](http://pages.cs.wisc.edu/~swright/726/handouts/barzilai-borwein.pdf) об этом методе опубликована в 1988, в журнале IMA Journal of Numerical Analysis\n",
    "- [Статья](http://papers.nips.cc/paper/6286-barzilai-borwein-step-size-for-stochastic-gradient-descent.pdf) на NIPS 2016 о модификации этого метода в случае использования стохастической оценки градиента\n",
    "- Идея: комбинация идеи наискорейшего спуска и квазиньютоновского метода"
   ]
  },
  {
   "cell_type": "markdown",
   "metadata": {
    "slideshow": {
     "slide_type": "slide"
    }
   },
   "source": [
    "## Идея метода\n",
    "\n",
    "- Наискорейший спуск: $x_{k+1} = x_k - \\alpha_k f'(x_k)$, $\\alpha_k = \\arg \\min\\limits_{\\alpha > 0} f(x_{k+1})$\n",
    "- Метод Ньютона: $x_{k+1} = x_k - (f''(x_k))^{-1} f'(x_k)$\n",
    "- Аппроксимация гессиана диагональной матрицей:\n",
    "\n",
    "$$\n",
    "\\alpha_k f'(x_k) = \\alpha_k I f'(x_k) = \\left( \\frac{1}{\\alpha_k} I \\right)^{-1} f'(x_k) \\approx f''(x_k))^{-1} f'(x_k)\n",
    "$$\n",
    "\n",
    "- Как найти $\\alpha_k$?"
   ]
  },
  {
   "cell_type": "markdown",
   "metadata": {
    "slideshow": {
     "slide_type": "slide"
    }
   },
   "source": [
    "### Снова квазиньютоновское уравнение (Secant equation)\n",
    "- Для точного гессиана\n",
    "$$\n",
    "f''(x_{k})(x_{k} - x_{k-1}) = f'(x_{k}) - f'(x_{k-1})\n",
    "$$\n",
    "- Для приближения\n",
    "\n",
    "$$\n",
    "\\alpha_k^{-1} s_{k-1} \\approx y_{k-1}\n",
    "$$\n",
    "\n",
    "- Задача аппроксимации одного вектора с помощью масштабирования другого\n",
    "- Простейший квазиньютоновский метод вырождается в поиск оптимального шага"
   ]
  },
  {
   "cell_type": "markdown",
   "metadata": {
    "slideshow": {
     "slide_type": "slide"
    }
   },
   "source": [
    "## Три способа найти $\\alpha_k$\n",
    "\n",
    "- Первый способ\n",
    "    - Задача\n",
    "    \n",
    "    $$\n",
    "    \\min_{\\beta} \\|\\beta s_{k-1} - y_{k-1} \\|^2_2\n",
    "    $$\n",
    "    \n",
    "    - Решение\n",
    "    \n",
    "    $$\n",
    "    \\alpha = \\frac{1}{\\beta} = \\frac{s^{\\top}_{k-1} s_{k-1}}{s^{\\top}_{k-1} y_{k-1}}\n",
    "    $$\n",
    "    \n",
    "- Второй способ\n",
    "    - Задача\n",
    "    \n",
    "    $$\n",
    "    \\min_{\\alpha} \\| s_{k-1} - \\alpha y_{k-1} \\|^2_2\n",
    "    $$\n",
    "    \n",
    "    - Решение\n",
    "    \n",
    "    $$\n",
    "    \\alpha = \\frac{s^{\\top}_{k-1} y_{k-1}}{y^{\\top}_{k-1} y_{k-1}}\n",
    "    $$\n",
    "- Третий способ называется немонотонный линейный поиск: специальная модификация правил Армихо, учитывающая историю изменений значения функции, [статья](https://www.math.lsu.edu/~hozhang/papers/nonmonotone.pdf) 2004 г. в SIAM Journal on Optimization"
   ]
  },
  {
   "cell_type": "markdown",
   "metadata": {
    "slideshow": {
     "slide_type": "slide"
    }
   },
   "source": [
    "## Эксперименты\n",
    "\n",
    "$$\n",
    "f(x) = - \\sum_{i=1}^m \\log(1 - a_i^{\\top}x) - \\sum\\limits_{i = 1}^n \\log (1 - x^2_i) \\to \\min_x\n",
    "$$"
   ]
  },
  {
   "cell_type": "code",
   "execution_count": 8,
   "metadata": {
    "slideshow": {
     "slide_type": "fragment"
    }
   },
   "outputs": [],
   "source": [
    "def bb_method(f, gradf, x0, tol=1e-6, maxiter=100, callback=None, alpha_type=1):\n",
    "    it = 0\n",
    "    x_prev = x0.copy()\n",
    "    current_tol = np.linalg.norm(gradf(x_prev))\n",
    "    alpha = 1e-4\n",
    "    while current_tol > tol and it < maxiter:\n",
    "        it += 1\n",
    "        current_grad = gradf(x_prev)\n",
    "        if it != 1:\n",
    "            g = current_grad - prev_grad\n",
    "            if alpha_type == 1:\n",
    "                alpha = g.dot(s) / g.dot(g)\n",
    "            elif alpha_type == 2:\n",
    "                alpha = s.dot(s) / g.dot(s)\n",
    "        if callback:\n",
    "            callback(x_prev)\n",
    "        x_next = x_prev - alpha * current_grad\n",
    "        current_tol = np.linalg.norm(gradf(x_next))\n",
    "        prev_grad = current_grad\n",
    "        s = x_next - x_prev\n",
    "        x_prev = x_next\n",
    "    if callback:\n",
    "        callback(x_prev)\n",
    "    return x_next"
   ]
  },
  {
   "cell_type": "code",
   "execution_count": 9,
   "metadata": {
    "slideshow": {
     "slide_type": "slide"
    }
   },
   "outputs": [],
   "source": [
    "bb = methods.fo.BarzilaiBorweinMethod(f, grad_f, init_alpha=1e-4, type=1)    \n",
    "x_bb = bb.solve(x0, tol=1e-5, max_iter=100)"
   ]
  },
  {
   "cell_type": "code",
   "execution_count": 10,
   "metadata": {
    "slideshow": {
     "slide_type": "slide"
    }
   },
   "outputs": [
    {
     "data": {
      "image/png": "[encoded data removed]",
      "text/plain": [
       "<matplotlib.figure.Figure at 0x18206b5588>"
      ]
     },
     "metadata": {},
     "output_type": "display_data"
    }
   ],
   "source": [
    "plt.figure(figsize=(8, 6))\n",
    "plt.semilogy([np.linalg.norm(grad_f(x)) for x in bb.get_convergence()], label=\"BB\")\n",
    "plt.semilogy([np.linalg.norm(grad_f(x)) for x in newton.get_convergence()], label=\"Newton\")\n",
    "plt.semilogy([np.linalg.norm(grad_f(x)) for x in gd.get_convergence()], label=\"GD\")\n",
    "plt.ylabel(\"$\\|f'(x_k)\\|_2$\", fontsize=18)\n",
    "plt.xlabel(\"Number of iterations, $k$\", fontsize=18)\n",
    "plt.legend(fontsize=18)\n",
    "plt.xticks(fontsize=18)\n",
    "_ = plt.yticks(fontsize=18)"
   ]
  },
  {
   "cell_type": "code",
   "execution_count": 11,
   "metadata": {
    "slideshow": {
     "slide_type": "slide"
    }
   },
   "outputs": [
    {
     "name": "stdout",
     "output_type": "stream",
     "text": [
      "155 ms ± 16.3 ms per loop (mean ± std. dev. of 7 runs, 10 loops each)\n"
     ]
    }
   ],
   "source": [
    "%timeit bb.solve(x0, tol=1e-5, max_iter=100)"
   ]
  },
  {
   "cell_type": "markdown",
   "metadata": {
    "slideshow": {
     "slide_type": "slide"
    }
   },
   "source": [
    "## Плохо обусловленная задача "
   ]
  },
  {
   "cell_type": "code",
   "execution_count": 12,
   "metadata": {
    "slideshow": {
     "slide_type": "fragment"
    }
   },
   "outputs": [
    {
     "name": "stdout",
     "output_type": "stream",
     "text": [
      "Condition number = 50.00000000000039\n"
     ]
    }
   ],
   "source": [
    "n = 50\n",
    "D = np.arange(1, n+1)\n",
    "U = np.random.randn(n, n)\n",
    "U, _ = np.linalg.qr(U)\n",
    "A = U.dot(np.diag(D)).dot(U.T)\n",
    "b = np.random.randn(n)\n",
    "eig_vals = np.linalg.eigvals(A)\n",
    "print(\"Condition number = {}\".format(np.max(eig_vals) / np.min(eig_vals)))"
   ]
  },
  {
   "cell_type": "code",
   "execution_count": 13,
   "metadata": {
    "slideshow": {
     "slide_type": "fragment"
    }
   },
   "outputs": [],
   "source": [
    "f = lambda x: 0.5 * x.T.dot(A.dot(x)) - b.dot(x)\n",
    "gradf = lambda x: A.dot(x) - b\n",
    "x0 = np.random.randn(n)"
   ]
  },
  {
   "cell_type": "code",
   "execution_count": 14,
   "metadata": {
    "slideshow": {
     "slide_type": "slide"
    }
   },
   "outputs": [],
   "source": [
    "gd = methods.fo.GradientDescent(f, gradf, ss.ExactLineSearch4Quad(A, b))\n",
    "x_grad = gd.solve(x0, tol=1e-6, max_iter=100)\n",
    "\n",
    "bb_1 = methods.fo.BarzilaiBorweinMethod(f, gradf, init_alpha=1e-4, type=1)    \n",
    "x_bb_1 = bb_1.solve(x0, tol=1e-6, max_iter=100)\n",
    "\n",
    "bb_2 = methods.fo.BarzilaiBorweinMethod(f, gradf, init_alpha=1e-4, type=2)\n",
    "x_bb = bb_2.solve(x0, tol=1e-6, max_iter=100)"
   ]
  },
  {
   "cell_type": "code",
   "execution_count": 15,
   "metadata": {
    "slideshow": {
     "slide_type": "slide"
    }
   },
   "outputs": [
    {
     "data": {
      "image/png": "[encoded data removed]",
      "text/plain": [
       "<matplotlib.figure.Figure at 0x1820ccd8d0>"
      ]
     },
     "metadata": {},
     "output_type": "display_data"
    }
   ],
   "source": [
    "plt.figure(figsize=(8, 6))\n",
    "plt.semilogy([np.linalg.norm(gradf(x)) for x in gd.get_convergence()], label='GD')\n",
    "plt.semilogy([np.linalg.norm(gradf(x)) for x in bb_1.get_convergence()], label='BB 1')\n",
    "plt.semilogy([np.linalg.norm(gradf(x)) for x in bb_2.get_convergence()], label='BB 2')\n",
    "plt.legend(fontsize=18)\n",
    "plt.ylabel(\"$\\|f'(x_k)\\|_2$\", fontsize=18)\n",
    "plt.xlabel(\"Number of iterations, $k$\", fontsize=18)\n",
    "plt.xticks(fontsize=18)\n",
    "_ = plt.yticks(fontsize=18)"
   ]
  },
  {
   "cell_type": "markdown",
   "metadata": {
    "slideshow": {
     "slide_type": "slide"
    }
   },
   "source": [
    "## Резюме\n",
    "\n",
    "1. Метод Ньютона\n",
    "2. Теоремы сходимости\n",
    "4. Сравнение с градиентным спуском\n",
    "5. Эксперименты\n",
    "6. Квазиньютоновские методы"
   ]
  }
 ],
 "metadata": {
  "anaconda-cloud": {},
  "celltoolbar": "Slideshow",
  "kernelspec": {
   "display_name": "Python 3 (cvxpy)",
   "language": "python",
   "name": "cvxpy"
  },
  "language_info": {
   "codemirror_mode": {
    "name": "ipython",
    "version": 3
   },
   "file_extension": ".py",
   "mimetype": "text/x-python",
   "name": "python",
   "nbconvert_exporter": "python",
   "pygments_lexer": "ipython3",
   "version": "3.6.4"
  }
 },
 "nbformat": 4,
 "nbformat_minor": 1
}
